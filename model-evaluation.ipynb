{
 "cells": [
  {
   "cell_type": "markdown",
   "metadata": {},
   "source": [
    "Step 4: Chossing a Regression Model"
   ]
  },
  {
   "cell_type": "code",
   "execution_count": 1,
   "metadata": {},
   "outputs": [],
   "source": [
    "import pandas as pd\n",
    "import smogn\n",
    "from sklearn.model_selection import train_test_split, GridSearchCV\n",
    "from sklearn.ensemble import RandomForestRegressor, GradientBoostingRegressor\n",
    "from sklearn.linear_model import LinearRegression, BayesianRidge\n",
    "from sklearn.svm import SVR\n",
    "from sklearn.preprocessing import PolynomialFeatures\n",
    "from sklearn.pipeline import make_pipeline\n",
    "from sklearn.metrics import mean_squared_error"
   ]
  },
  {
   "cell_type": "code",
   "execution_count": 2,
   "metadata": {},
   "outputs": [
    {
     "name": "stderr",
     "output_type": "stream",
     "text": [
      "dist_matrix: 100%|##########| 1455/1455 [01:41<00:00, 14.36it/s]\n",
      "synth_matrix: 100%|##########| 1455/1455 [00:01<00:00, 1116.58it/s]\n",
      "r_index: 100%|##########| 127/127 [00:00<00:00, 1797.99it/s]\n"
     ]
    }
   ],
   "source": [
    "data = pd.read_csv('/home/lola/machine-learning-project/famd_data.csv')\n",
    "\n",
    "try:\n",
    "    data_smogn = smogn.smoter(data=data, y='MSRP')\n",
    "except ValueError:\n",
    "\n",
    "    print(\"Oops! Synthetic data contains missing values.\")\n",
    "   \n",
    "    data = data.dropna()\n",
    "    data_smogn = smogn.smoter(data=data, y='MSRP')\n",
    "   \n",
    "\n",
    "feature_columns = ['0', '1']\n",
    "target_variable = 'MSRP'\n",
    "\n",
    "X = data_smogn[feature_columns]\n",
    "y = data_smogn[target_variable]\n",
    "\n",
    "X_train, X_test, y_train, y_test = train_test_split(X, y, test_size=0.2, random_state=42)"
   ]
  },
  {
   "cell_type": "code",
   "execution_count": 4,
   "metadata": {},
   "outputs": [
    {
     "name": "stdout",
     "output_type": "stream",
     "text": [
      "Training Random Forest...\n",
      "Best parameters: {'max_depth': 10, 'min_samples_split': 10, 'n_estimators': 300}\n",
      "Best MSE on cross-validation set: 3767135018.761902\n",
      "\n",
      "Training Gradient Boosted Trees...\n",
      "Best parameters: {'learning_rate': 0.05, 'max_depth': 5, 'n_estimators': 100}\n",
      "Best MSE on cross-validation set: 3862117642.7219605\n",
      "\n",
      "Training Linear Regression...\n",
      "Best parameters: {}\n",
      "Best MSE on cross-validation set: 9621853421.331833\n",
      "\n",
      "Training Polynomial Regression...\n",
      "Best parameters: {'polynomialfeatures__degree': 5}\n",
      "Best MSE on cross-validation set: 4789420049.303801\n",
      "\n",
      "Training Bayesian Regression...\n",
      "Best parameters: {'alpha_1': 1e-06, 'alpha_2': 1e-06, 'lambda_1': 0.0001, 'lambda_2': 1e-06}\n",
      "Best MSE on cross-validation set: 9621821448.69897\n",
      "\n",
      "Training Support Vector Regression...\n",
      "Best parameters: {'C': 1000, 'gamma': 'scale'}\n",
      "Best MSE on cross-validation set: 8437766651.425189\n",
      "\n",
      "Evaluating models on test data:\n",
      "Random Forest: MSE = 5866334866.671805\n",
      "Gradient Boosted Trees: MSE = 6011181059.461823\n",
      "Linear Regression: MSE = 9565286178.633635\n",
      "Polynomial Regression: MSE = 5503219349.663537\n",
      "Bayesian Regression: MSE = 9565209054.775316\n",
      "Support Vector Regression: MSE = 8237605329.417795\n",
      "\n",
      "Best model: Polynomial Regression\n"
     ]
    }
   ],
   "source": [
    "# define models to train\n",
    "models = {\n",
    "    \"Random Forest\": RandomForestRegressor(),\n",
    "    \"Gradient Boosted Trees\": GradientBoostingRegressor(),\n",
    "    \"Linear Regression\": LinearRegression(),\n",
    "    \"Polynomial Regression\": make_pipeline(PolynomialFeatures(), LinearRegression()),\n",
    "    \"Bayesian Regression\": BayesianRidge(),\n",
    "    \"Support Vector Regression\": SVR()\n",
    "}\n",
    "\n",
    "# define parameter grid for each model\n",
    "param_grids = {\n",
    "    \"Random Forest\": {'n_estimators': [50, 100, 200, 300, 400],\n",
    "                      'max_depth': [None, 10, 20, 30],\n",
    "                      'min_samples_split': [2, 5, 10]},\n",
    "    \"Gradient Boosted Trees\": {'n_estimators': [100, 200, 300],\n",
    "                               'learning_rate': [0.05, 0.1, 0.2],\n",
    "                               'max_depth': [3, 5, 7]},\n",
    "    \"Linear Regression\": {},\n",
    "    \"Polynomial Regression\": {'polynomialfeatures__degree': [2, 3, 4, 5]},\n",
    "    \"Bayesian Regression\": {'alpha_1': [1e-6, 1e-5, 1e-4],\n",
    "                            'alpha_2': [1e-6, 1e-5, 1e-4],\n",
    "                            'lambda_1': [1e-6, 1e-5, 1e-4],\n",
    "                            'lambda_2': [1e-6, 1e-5, 1e-4]},\n",
    "    \"Support Vector Regression\": {'C': [0.1, 1, 10, 100, 1000],\n",
    "                                  'gamma': ['scale', 'auto']}\n",
    "}\n",
    "\n",
    "# compare best models of all regression models \n",
    "best_models = {}\n",
    "for name, model in models.items():\n",
    "    print(f\"Training {name}...\")\n",
    "    grid_search = GridSearchCV(model, param_grid=param_grids[name], scoring='neg_mean_squared_error', cv=5)\n",
    "    grid_search.fit(X_train, y_train)\n",
    "    best_models[name] = grid_search.best_estimator_\n",
    "    print(f\"Best parameters: {grid_search.best_params_}\")\n",
    "    print(f\"Best MSE on cross-validation set: {-grid_search.best_score_}\")\n",
    "    print()\n",
    "\n",
    "print(\"Evaluating models on test data:\")\n",
    "for name, model in best_models.items():\n",
    "    y_pred = model.predict(X_test)\n",
    "    mse = mean_squared_error(y_test, y_pred)\n",
    "    print(f\"{name}: MSE = {mse}\")\n",
    "\n",
    "best_model_name = min(best_models, key=lambda x: mean_squared_error(y_test, best_models[x].predict(X_test)))\n",
    "best_model = best_models[best_model_name]\n",
    "print(f\"\\nBest model: {best_model_name}\")"
   ]
  }
 ],
 "metadata": {
  "kernelspec": {
   "display_name": "Python 3",
   "language": "python",
   "name": "python3"
  },
  "language_info": {
   "codemirror_mode": {
    "name": "ipython",
    "version": 3
   },
   "file_extension": ".py",
   "mimetype": "text/x-python",
   "name": "python",
   "nbconvert_exporter": "python",
   "pygments_lexer": "ipython3",
   "version": "3.10.12"
  }
 },
 "nbformat": 4,
 "nbformat_minor": 2
}
