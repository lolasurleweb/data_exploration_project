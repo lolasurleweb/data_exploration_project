{
 "cells": [
  {
   "cell_type": "markdown",
   "metadata": {},
   "source": [
    "Step 1: Data Cleaning & Feature Engineering"
   ]
  },
  {
   "cell_type": "markdown",
   "metadata": {},
   "source": [
    "Data Cleaning"
   ]
  },
  {
   "cell_type": "code",
   "execution_count": 2,
   "metadata": {},
   "outputs": [],
   "source": [
    "import pandas as pd\n",
    "import numpy as np\n",
    "from sklearn.preprocessing import StandardScaler, LabelEncoder"
   ]
  },
  {
   "cell_type": "code",
   "execution_count": 3,
   "metadata": {},
   "outputs": [],
   "source": [
    "# substitute with your path to the folder\n",
    "data = pd.read_csv('/home/lola/machine-learning-project/data.csv')"
   ]
  },
  {
   "cell_type": "code",
   "execution_count": null,
   "metadata": {},
   "outputs": [],
   "source": [
    "clean_data = data.copy()\n",
    "clean_data = clean_data.drop_duplicates() # remove duplicates\n",
    "clean_data = clean_data.drop('Market Category', axis = 1) # remove column 'Market Category'\n",
    "\n",
    "# fill null values in columns 'Engine HP' and 'Engine Cylinders' for electric cars to 'not applicable'\n",
    "clean_data.loc[clean_data['Engine Fuel Type'] == 'electric', 'Engine HP'] = 'not applicable'\n",
    "clean_data.loc[clean_data['Engine Fuel Type'] == 'electric', 'Engine Cylinders'] = 'not applicable'\n",
    "\n",
    "# add column 'Power' for electric cars and initialise it with null values\n",
    "clean_data['Power'] = np.nan\n",
    "# fill null values in column 'Power' for non-electric cars with 'not applicable'\n",
    "clean_data.loc[clean_data['Engine Fuel Type'] != 'electric', 'Power'] = 'not applicable'\n",
    "\n",
    "# check for identical cars with different price and popularity rating\n",
    "columns_to_check  = ['Make', 'Model', 'Year', 'Engine Fuel Type', 'Engine HP', 'Engine Cylinders', 'Transmission Type', 'Driven_Wheels', 'Number of Doors', 'Vehicle Size', 'Vehicle Style', 'highway MPG', 'city mpg', 'Power']\n",
    "columns_to_ignore = ['MSRP', 'Popularity']\n",
    "duplicates = clean_data.duplicated(subset=columns_to_check, keep=False)\n",
    "\n",
    "# calculate the mean value for price and popularity for identical cars and substitute the multiple identical rows with the summarized rows\n",
    "duplicate_rows = clean_data[duplicates]\n",
    "summary = duplicate_rows.groupby(columns_to_check)[columns_to_ignore].mean().reset_index()\n",
    "clean_data = clean_data.drop_duplicates(subset=clean_data.columns.difference(columns_to_ignore))\n",
    "clean_data = pd.concat([clean_data, summary], ignore_index=True)"
   ]
  },
  {
   "cell_type": "markdown",
   "metadata": {},
   "source": [
    "Disclaimer: Please do not overwrite clean_data.csv because of manual changes made to fill the null-values for the electric cars with actual (researched) power values"
   ]
  },
  {
   "cell_type": "code",
   "execution_count": null,
   "metadata": {},
   "outputs": [],
   "source": [
    "clean_data.to_csv('clean_data.csv', index= False)"
   ]
  },
  {
   "cell_type": "code",
   "execution_count": 4,
   "metadata": {},
   "outputs": [],
   "source": [
    "data = pd.read_csv('/home/lola/machine-learning-project/clean_data.csv')\n",
    "\n",
    "# remove actual null values in the data\n",
    "data = data.dropna()\n",
    "\n",
    "workable_data = data.copy()\n",
    "\n",
    "# substitute the values 'not applicable' with null values\n",
    "workable_data.loc[workable_data['Engine HP'] == 'not applicable', 'Engine HP'] = pd.NA\n",
    "workable_data['Engine HP'] = pd.to_numeric(workable_data['Engine HP'], errors='coerce')\n",
    "workable_data.loc[workable_data['Engine Cylinders'] == 'not applicable', 'Engine Cylinders'] = pd.NA\n",
    "workable_data['Engine Cylinders'] = pd.to_numeric(workable_data['Engine Cylinders'], errors='coerce')\n",
    "workable_data.loc[workable_data['Power'] == 'not applicable', 'Power'] = pd.NA\n",
    "workable_data['Power'] = pd.to_numeric(workable_data['Power'], errors='coerce')"
   ]
  },
  {
   "cell_type": "markdown",
   "metadata": {},
   "source": [
    "Feature Engineering"
   ]
  },
  {
   "cell_type": "code",
   "execution_count": 21,
   "metadata": {},
   "outputs": [],
   "source": [
    "categorical_features = ['Make', 'Model', 'Engine Fuel Type', 'Transmission Type', 'Driven_Wheels', 'Vehicle Size', 'Vehicle Style', 'Engine Cylinders', 'Number of Doors', 'Year']\n",
    "numerical_features = ['Engine HP','highway MPG', 'city mpg', 'Popularity', 'Power']\n",
    "\n",
    "target_variable = 'MSRP'\n",
    "\n",
    "# binary encoding for categorical features\n",
    "label_encoders = {}\n",
    "for feature in categorical_features:\n",
    "    label_encoders[feature] = LabelEncoder()\n",
    "    workable_data[feature] = label_encoders[feature].fit_transform(workable_data[feature])\n",
    "    workable_data[feature] = workable_data[feature].apply(lambda x: format(x, 'b'))\n",
    "    workable_data[feature] = workable_data[feature].apply(lambda x: [int(i) for i in x])\n",
    "\n",
    "# standardization for numerical features\n",
    "scaler = StandardScaler()    \n",
    "for feature in numerical_features:\n",
    "    workable_data[feature] = scaler.fit_transform(workable_data[[feature]])\n",
    "\n",
    "for feature in categorical_features:\n",
    "    workable_data[feature] = workable_data[feature].apply(lambda x: ''.join(str(i) for i in x))\n",
    "\n",
    "preprocessed_data = pd.DataFrame(workable_data)\n",
    "\n",
    "preprocessed_data.to_csv('binarized_standardized_data.csv', index=False)"
   ]
  },
  {
   "cell_type": "code",
   "execution_count": 8,
   "metadata": {},
   "outputs": [
    {
     "name": "stderr",
     "output_type": "stream",
     "text": [
      "/home/lola/.local/lib/python3.10/site-packages/prince/pca.py:175: PerformanceWarning: Concatenating sparse arrays with multiple fill values: '[-1.0332337976453745, -0.7252541232972616, -1.3750613518944874, -1.2311135831310378, -0.12483987294660241, -1.397545597461203, -0.2937244852739915, -1.3683660668752424, -0.9410428345120683, -0.18274686167321233, -0.3562392155776104, -0.040863440537605385, -0.15826342467088272, -0.25628034855297854, -0.1081145013769794, -0.15106582635326765, -0.5558028813577041, -0.03336485948389824, -0.7684789825139886, -1.008976741230322, -1.7193427157997956, -0.32348431453123927, -0.05275447489029424, -0.214938071796928, -0.3982875511413695, -0.42466533109921323, -0.2015745655232326, -0.28014563410984883, -0.6542405709692845, -0.28701537376966463, -0.49768472074658965, -0.15470648900474693, -0.19597417628126274, -0.5807786119161268, -0.459902849732693, -0.09727444531444178, -0.3890977812577671, -0.37377578569474557, -0.4193897805670559, -0.33113677546514964, -0.17012806957667836, -0.22873795241252134, -0.33364859483898235, -0.2648253621690288, -0.16848428156269352, -0.09437007357760294, -0.42792952463992834, -0.4318139872719455, -0.33029525752161026, -0.4586909824095867, -0.26377237445147117, -0.19738917065864983, -0.3156463835212349, -0.2751336796720071, -0.13135758314575616, -0.2417513744324205, -0.17967526708767664, -0.31652684934176545, -0.3833330509963837, -0.08172688107521077, -0.5270169401175624, -0.4629186384379038, -0.3531004828920383, -0.09137343083660616, -0.023592518394400734, -0.07824753137378525, -0.05778963181350805, -0.10009457845169469, -0.062419936473301206, -0.13345943793559295, -0.11065872009102135, -0.12704959976920027, -0.0707775551832022, -0.04718503678880147, -0.10550894978058847, -0.08506403478833918, -0.1415551103664044, -0.11796259197200366, -0.06672971896779648, -0.074606093865725, -0.1155792636270161, -0.11314574343020221, -0.12259032161281613, -0.16514762876080513, -0.12922154512968845, -0.08827512072300958, -0.14733523015020997, -0.12029871166784604, -0.10283740350481725, -0.14543405075574703, -0.1564950627475705, -0.14921218773145, -0.14350768688483231, -0.21101789956117695, -0.16345376215042154, -0.18874014715520587, -0.13552869990623578, -0.17336889544052414, -1.176554894792789, -0.4079527795380869, -1.8572272637472986, -0.5081983990768011, -1.847310762218888, -0.16174215726561963, -1.1385681913872479, -1.4253474219620983, -1.052448468637953, -1.3640883210289676, -0.45135145314221614, -0.21878801493763722, -0.5436527170399893, -1.0037223384901564, -0.2162290027539588, -0.6005674707101681, -0.7608358569085335, -0.4875152886107147, -0.5141870175240862, -0.3700341921373938, -0.20702350871975997, -0.352311430547464, -1.1567553958175816, -0.5201066863215724, -0.2394379109322166, -0.2658741795890443, -0.2974903375678474, -0.2669188758711859, -0.25409919953840054, -0.2530015736746824, -0.2781516896630848, -0.2584430902593769, -0.2405974233356921, -0.24967974589320482, -0.320024489767557, -0.34351225295221866, -0.34188807244466535, -0.3217590525523182, -0.30941297800949386, -0.3752619775838003, -0.39194835256252547, -0.40999425740541945, -0.36396764685511895, -0.3722836608331664, -0.4127005195080107, -0.5037983301190094, -0.9152559319153065, -0.8189696842063904]'. Picking the first and converting the rest.\n",
      "  X = self.scaler_.transform(X.to_numpy())\n",
      "/home/lola/.local/lib/python3.10/site-packages/prince/pca.py:175: PerformanceWarning: Concatenating sparse arrays with multiple fill values: '[-1.0332337976453745, -0.7252541232972616, -1.3750613518944874, -1.2311135831310378, -0.12483987294660241, -1.397545597461203, -0.2937244852739915, -1.3683660668752424, -0.9410428345120683, -0.18274686167321233, -0.3562392155776104, -0.040863440537605385, -0.15826342467088272, -0.25628034855297854, -0.1081145013769794, -0.15106582635326765, -0.5558028813577041, -0.03336485948389824, -0.7684789825139886, -1.008976741230322, -1.7193427157997956, -0.32348431453123927, -0.05275447489029424, -0.214938071796928, -0.3982875511413695, -0.42466533109921323, -0.2015745655232326, -0.28014563410984883, -0.6542405709692845, -0.28701537376966463, -0.49768472074658965, -0.15470648900474693, -0.19597417628126274, -0.5807786119161268, -0.459902849732693, -0.09727444531444178, -0.3890977812577671, -0.37377578569474557, -0.4193897805670559, -0.33113677546514964, -0.17012806957667836, -0.22873795241252134, -0.33364859483898235, -0.2648253621690288, -0.16848428156269352, -0.09437007357760294, -0.42792952463992834, -0.4318139872719455, -0.33029525752161026, -0.4586909824095867, -0.26377237445147117, -0.19738917065864983, -0.3156463835212349, -0.2751336796720071, -0.13135758314575616, -0.2417513744324205, -0.17967526708767664, -0.31652684934176545, -0.3833330509963837, -0.08172688107521077, -0.5270169401175624, -0.4629186384379038, -0.3531004828920383, -0.09137343083660616, -0.023592518394400734, -0.07824753137378525, -0.05778963181350805, -0.10009457845169469, -0.062419936473301206, -0.13345943793559295, -0.11065872009102135, -0.12704959976920027, -0.0707775551832022, -0.04718503678880147, -0.10550894978058847, -0.08506403478833918, -0.1415551103664044, -0.11796259197200366, -0.06672971896779648, -0.074606093865725, -0.1155792636270161, -0.11314574343020221, -0.12259032161281613, -0.16514762876080513, -0.12922154512968845, -0.08827512072300958, -0.14733523015020997, -0.12029871166784604, -0.10283740350481725, -0.14543405075574703, -0.1564950627475705, -0.14921218773145, -0.14350768688483231, -0.21101789956117695, -0.16345376215042154, -0.18874014715520587, -0.13552869990623578, -0.17336889544052414, -1.176554894792789, -0.4079527795380869, -1.8572272637472986, -0.5081983990768011, -1.847310762218888, -0.16174215726561963, -1.1385681913872479, -1.4253474219620983, -1.052448468637953, -1.3640883210289676, -0.45135145314221614, -0.21878801493763722, -0.5436527170399893, -1.0037223384901564, -0.2162290027539588, -0.6005674707101681, -0.7608358569085335, -0.4875152886107147, -0.5141870175240862, -0.3700341921373938, -0.20702350871975997, -0.352311430547464, -1.1567553958175816, -0.5201066863215724, -0.2394379109322166, -0.2658741795890443, -0.2974903375678474, -0.2669188758711859, -0.25409919953840054, -0.2530015736746824, -0.2781516896630848, -0.2584430902593769, -0.2405974233356921, -0.24967974589320482, -0.320024489767557, -0.34351225295221866, -0.34188807244466535, -0.3217590525523182, -0.30941297800949386, -0.3752619775838003, -0.39194835256252547, -0.40999425740541945, -0.36396764685511895, -0.3722836608331664, -0.4127005195080107, -0.5037983301190094, -0.9152559319153065, -0.8189696842063904]'. Picking the first and converting the rest.\n",
      "  X = self.scaler_.transform(X.to_numpy())\n"
     ]
    }
   ],
   "source": [
    "import pandas as pd\n",
    "from prince import FAMD\n",
    "\n",
    "data = pd.read_csv('/home/lola/machine-learning-project/binarized_standardized_data.csv')\n",
    "\n",
    "# fill null values with a extreme value that will be recognized as invalid a by the model\n",
    "data = data.fillna(-9999)\n",
    "\n",
    "target = data['MSRP']\n",
    "features = data.drop(columns=['MSRP'])\n",
    "\n",
    "# transform categorical features to the datatype 'category'\n",
    "categorical_features = ['Make', 'Model', 'Engine Fuel Type', 'Transmission Type', 'Driven_Wheels', 'Vehicle Size', 'Vehicle Style', 'Engine Cylinders', 'Number of Doors', 'Year']\n",
    "for col in categorical_features:\n",
    "    data[col] = data[col].astype('category')\n",
    "\n",
    "# define desired dimensions\n",
    "famd = FAMD(n_components=3)\n",
    "\n",
    "# dimension reduction of the data features with famd\n",
    "famd.fit(features)\n",
    "reduced_data = famd.transform(features)\n",
    "reduced_data_with_target = pd.concat([pd.DataFrame(reduced_data), target], axis=1)\n",
    "\n",
    "# save as csv\n",
    "reduced_data_with_target.to_csv('famd_data.csv', index=False)"
   ]
  }
 ],
 "metadata": {
  "kernelspec": {
   "display_name": "Python 3",
   "language": "python",
   "name": "python3"
  },
  "language_info": {
   "codemirror_mode": {
    "name": "ipython",
    "version": 3
   },
   "file_extension": ".py",
   "mimetype": "text/x-python",
   "name": "python",
   "nbconvert_exporter": "python",
   "pygments_lexer": "ipython3",
   "version": "3.10.12"
  }
 },
 "nbformat": 4,
 "nbformat_minor": 2
}
